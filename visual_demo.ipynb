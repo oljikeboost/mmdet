{
 "cells": [
  {
   "cell_type": "code",
   "execution_count": 1,
   "metadata": {},
   "outputs": [],
   "source": [
    "from mmdet.apis import init_detector, inference_detector\n",
    "import mmcv\n",
    "import matplotlib.pyplot as plt\n",
    "import cv2\n",
    "import os\n",
    "import glob\n",
    "import json\n",
    "from tqdm.notebook import tqdm\n",
    "import numpy as np\n",
    "import logging\n",
    "import math\n",
    "from tracking import Tracker"
   ]
  },
  {
   "cell_type": "code",
   "execution_count": 2,
   "metadata": {},
   "outputs": [],
   "source": [
    "### Path to OCR of the video\n",
    "data = open('../../data/ocr_results/results/ocr_with_gameclockrunning/2018-11-28_Virginia_at_Maryland/2018-11-28_Virginia_at_Maryland_ocr.json')\n",
    "data = json.load(data)\n",
    "\n",
    "### Config and model weights path\n",
    "config_file = 'configs/yolo/custom_yolov3_d53_mstrain-608_273e_coco.py'\n",
    "checkpoint_file = 'work_dirs/yolov3_d53_mstrain-608_273e_coco/epoch_273.pth'\n",
    "\n",
    "### Path to the video\n",
    "video_path = '../../data/videos/videos/2018-11-28_Virginia_at_Maryland.mp4'\n",
    "\n",
    "# build the model from a config file and a checkpoint file\n",
    "model = init_detector(config_file, checkpoint_file, device='cuda:0')"
   ]
  },
  {
   "cell_type": "code",
   "execution_count": null,
   "metadata": {
    "code_folding": [
     0
    ]
   },
   "outputs": [],
   "source": [
    "### Single Video inference\n",
    "\n",
    "logging.basicConfig(level=logging.DEBUG)\n",
    "### Comment if you want to DEBUG\n",
    "logging.disable(logging.DEBUG)\n",
    "\n",
    "### Load the video using MMCV\n",
    "video = mmcv.VideoReader(video_path)\n",
    "\n",
    "### Temp variables\n",
    "en = 0\n",
    "proc = 0\n",
    "pbar = tqdm(total=video.frame_cnt)\n",
    "has_pred = 0\n",
    "\n",
    "\n",
    "### Create the tracker\n",
    "tracker = Tracker()\n",
    "\n",
    "\n",
    "### Start prediction\n",
    "for frame in video:\n",
    "    \n",
    "    ### Check if it is game moment using OCR\n",
    "    idx = str(en)\n",
    "    if not data['results'][idx]['score_bug_present'] or not data['results'][idx]['game_clock_running']:\n",
    "        en += 1\n",
    "        continue\n",
    "    \n",
    "    \n",
    "    ### Predict the image and update stats\n",
    "    result = inference_detector(model, frame)\n",
    "    if len(result[0]) != 0: has_pred+=1\n",
    "        \n",
    "    ### Update tracker results\n",
    "    tracker.update(result)\n",
    "    \n",
    "    ### Update stats\n",
    "    en += 1\n",
    "    proc += 1\n",
    "    if proc > 1000: break  \n",
    "    pbar.update(1)\n",
    "    \n",
    "    \n",
    "pbar.close()"
   ]
  },
  {
   "cell_type": "code",
   "execution_count": null,
   "metadata": {
    "code_folding": [
     0
    ]
   },
   "outputs": [],
   "source": [
    "### Here I run the function which search for missing detections intervals in tracker.current_tracks \n",
    "### and interpolates its values. The below threshold is pointing how many missed values to interpolate.\n",
    "how_much_to_interpoate = 6\n",
    "tracker.calc_missing_intervals(how_much_to_interpoate)"
   ]
  },
  {
   "cell_type": "code",
   "execution_count": 14,
   "metadata": {},
   "outputs": [
    {
     "data": {
      "application/vnd.jupyter.widget-view+json": {
       "model_id": "b04c9aee327d4237b4c515e6b5bca9cf",
       "version_major": 2,
       "version_minor": 0
      },
      "text/plain": [
       "HBox(children=(HTML(value=''), FloatProgress(value=0.0, max=945.0), HTML(value='')))"
      ]
     },
     "metadata": {},
     "output_type": "display_data"
    },
    {
     "name": "stdout",
     "output_type": "stream",
     "text": [
      "\n"
     ]
    },
    {
     "data": {
      "application/vnd.jupyter.widget-view+json": {
       "model_id": "18d5c8af565743928eb8eead5b69373c",
       "version_major": 2,
       "version_minor": 0
      },
      "text/plain": [
       "HBox(children=(HTML(value=''), FloatProgress(value=0.0, max=1631.0), HTML(value='')))"
      ]
     },
     "metadata": {},
     "output_type": "display_data"
    },
    {
     "name": "stdout",
     "output_type": "stream",
     "text": [
      "\n"
     ]
    },
    {
     "data": {
      "application/vnd.jupyter.widget-view+json": {
       "model_id": "e5bf298ba3c14e1db7057a84cc3080ad",
       "version_major": 2,
       "version_minor": 0
      },
      "text/plain": [
       "HBox(children=(HTML(value=''), FloatProgress(value=0.0, max=419.0), HTML(value='')))"
      ]
     },
     "metadata": {},
     "output_type": "display_data"
    },
    {
     "name": "stdout",
     "output_type": "stream",
     "text": [
      "\n"
     ]
    },
    {
     "data": {
      "application/vnd.jupyter.widget-view+json": {
       "model_id": "1853a6c0960e4672a88c3d7a461353eb",
       "version_major": 2,
       "version_minor": 0
      },
      "text/plain": [
       "HBox(children=(HTML(value=''), FloatProgress(value=0.0, max=677.0), HTML(value='')))"
      ]
     },
     "metadata": {},
     "output_type": "display_data"
    },
    {
     "name": "stdout",
     "output_type": "stream",
     "text": [
      "\n"
     ]
    },
    {
     "data": {
      "application/vnd.jupyter.widget-view+json": {
       "model_id": "cf0ea0987fb34c08a14d9e51641fb2ba",
       "version_major": 2,
       "version_minor": 0
      },
      "text/plain": [
       "HBox(children=(HTML(value=''), FloatProgress(value=0.0, max=1039.0), HTML(value='')))"
      ]
     },
     "metadata": {},
     "output_type": "display_data"
    },
    {
     "name": "stdout",
     "output_type": "stream",
     "text": [
      "\n"
     ]
    },
    {
     "data": {
      "application/vnd.jupyter.widget-view+json": {
       "model_id": "69552913e2d4497296314f0ee3e714e9",
       "version_major": 2,
       "version_minor": 0
      },
      "text/plain": [
       "HBox(children=(HTML(value=''), FloatProgress(value=0.0, max=1126.0), HTML(value='')))"
      ]
     },
     "metadata": {},
     "output_type": "display_data"
    },
    {
     "name": "stdout",
     "output_type": "stream",
     "text": [
      "\n"
     ]
    },
    {
     "data": {
      "application/vnd.jupyter.widget-view+json": {
       "model_id": "62faffc3d7c74551bfd5a8d1b9b92e25",
       "version_major": 2,
       "version_minor": 0
      },
      "text/plain": [
       "HBox(children=(HTML(value=''), FloatProgress(value=0.0, max=531.0), HTML(value='')))"
      ]
     },
     "metadata": {},
     "output_type": "display_data"
    },
    {
     "name": "stdout",
     "output_type": "stream",
     "text": [
      "\n"
     ]
    },
    {
     "data": {
      "application/vnd.jupyter.widget-view+json": {
       "model_id": "3f7ca99ec2384a408549ceb2a5a04148",
       "version_major": 2,
       "version_minor": 0
      },
      "text/plain": [
       "HBox(children=(HTML(value=''), FloatProgress(value=0.0, max=549.0), HTML(value='')))"
      ]
     },
     "metadata": {},
     "output_type": "display_data"
    },
    {
     "name": "stdout",
     "output_type": "stream",
     "text": [
      "\n"
     ]
    },
    {
     "data": {
      "application/vnd.jupyter.widget-view+json": {
       "model_id": "30670b5415714157bc65c72a69a6ac37",
       "version_major": 2,
       "version_minor": 0
      },
      "text/plain": [
       "HBox(children=(HTML(value=''), FloatProgress(value=0.0, max=998.0), HTML(value='')))"
      ]
     },
     "metadata": {},
     "output_type": "display_data"
    },
    {
     "name": "stdout",
     "output_type": "stream",
     "text": [
      "\n"
     ]
    },
    {
     "data": {
      "application/vnd.jupyter.widget-view+json": {
       "model_id": "d5983eea4b704af5a52c37a8a6f73d2f",
       "version_major": 2,
       "version_minor": 0
      },
      "text/plain": [
       "HBox(children=(HTML(value=''), FloatProgress(value=0.0, max=1036.0), HTML(value='')))"
      ]
     },
     "metadata": {},
     "output_type": "display_data"
    },
    {
     "name": "stdout",
     "output_type": "stream",
     "text": [
      "\n"
     ]
    },
    {
     "data": {
      "application/vnd.jupyter.widget-view+json": {
       "model_id": "afcaee24b93346d58d5b9791f747e973",
       "version_major": 2,
       "version_minor": 0
      },
      "text/plain": [
       "HBox(children=(HTML(value=''), FloatProgress(value=0.0, max=1135.0), HTML(value='')))"
      ]
     },
     "metadata": {},
     "output_type": "display_data"
    },
    {
     "name": "stdout",
     "output_type": "stream",
     "text": [
      "\n"
     ]
    },
    {
     "data": {
      "application/vnd.jupyter.widget-view+json": {
       "model_id": "b7d0bcaf7bc248c3b219884d6dae8e36",
       "version_major": 2,
       "version_minor": 0
      },
      "text/plain": [
       "HBox(children=(HTML(value=''), FloatProgress(value=0.0, max=1715.0), HTML(value='')))"
      ]
     },
     "metadata": {},
     "output_type": "display_data"
    },
    {
     "name": "stdout",
     "output_type": "stream",
     "text": [
      "\n"
     ]
    },
    {
     "data": {
      "application/vnd.jupyter.widget-view+json": {
       "model_id": "5c350246c9b5405bb4106e368359da67",
       "version_major": 2,
       "version_minor": 0
      },
      "text/plain": [
       "HBox(children=(HTML(value=''), FloatProgress(value=0.0, max=1046.0), HTML(value='')))"
      ]
     },
     "metadata": {},
     "output_type": "display_data"
    },
    {
     "name": "stdout",
     "output_type": "stream",
     "text": [
      "\n"
     ]
    },
    {
     "data": {
      "application/vnd.jupyter.widget-view+json": {
       "model_id": "cd363c1c433d44a3ba75e5d7e67c3e71",
       "version_major": 2,
       "version_minor": 0
      },
      "text/plain": [
       "HBox(children=(HTML(value=''), FloatProgress(value=0.0, max=1005.0), HTML(value='')))"
      ]
     },
     "metadata": {},
     "output_type": "display_data"
    },
    {
     "name": "stdout",
     "output_type": "stream",
     "text": [
      "\n"
     ]
    },
    {
     "data": {
      "application/vnd.jupyter.widget-view+json": {
       "model_id": "2523105c21ae409d853d8e539da68dd4",
       "version_major": 2,
       "version_minor": 0
      },
      "text/plain": [
       "HBox(children=(HTML(value=''), FloatProgress(value=0.0, max=898.0), HTML(value='')))"
      ]
     },
     "metadata": {},
     "output_type": "display_data"
    },
    {
     "name": "stdout",
     "output_type": "stream",
     "text": [
      "\n"
     ]
    },
    {
     "data": {
      "application/vnd.jupyter.widget-view+json": {
       "model_id": "9add1c2134414deeaa9b65fe6afca7d2",
       "version_major": 2,
       "version_minor": 0
      },
      "text/plain": [
       "HBox(children=(HTML(value=''), FloatProgress(value=0.0, max=1095.0), HTML(value='')))"
      ]
     },
     "metadata": {},
     "output_type": "display_data"
    },
    {
     "name": "stdout",
     "output_type": "stream",
     "text": [
      "\n"
     ]
    },
    {
     "data": {
      "application/vnd.jupyter.widget-view+json": {
       "model_id": "3a747df687c84b04be92a947964d32e4",
       "version_major": 2,
       "version_minor": 0
      },
      "text/plain": [
       "HBox(children=(HTML(value=''), FloatProgress(value=0.0, max=1161.0), HTML(value='')))"
      ]
     },
     "metadata": {},
     "output_type": "display_data"
    },
    {
     "name": "stdout",
     "output_type": "stream",
     "text": [
      "\n"
     ]
    },
    {
     "data": {
      "application/vnd.jupyter.widget-view+json": {
       "model_id": "7ede91aac87b480e8b39e40fe63a4cbe",
       "version_major": 2,
       "version_minor": 0
      },
      "text/plain": [
       "HBox(children=(HTML(value=''), FloatProgress(value=0.0, max=723.0), HTML(value='')))"
      ]
     },
     "metadata": {},
     "output_type": "display_data"
    },
    {
     "name": "stdout",
     "output_type": "stream",
     "text": [
      "\n"
     ]
    },
    {
     "data": {
      "application/vnd.jupyter.widget-view+json": {
       "model_id": "4dd494142512467b8211292bea48b412",
       "version_major": 2,
       "version_minor": 0
      },
      "text/plain": [
       "HBox(children=(HTML(value=''), FloatProgress(value=0.0, max=1246.0), HTML(value='')))"
      ]
     },
     "metadata": {},
     "output_type": "display_data"
    },
    {
     "name": "stdout",
     "output_type": "stream",
     "text": [
      "\n"
     ]
    },
    {
     "data": {
      "application/vnd.jupyter.widget-view+json": {
       "model_id": "3a3a1cdb9dd04413aa37fe43b6ab53af",
       "version_major": 2,
       "version_minor": 0
      },
      "text/plain": [
       "HBox(children=(HTML(value=''), FloatProgress(value=0.0, max=1335.0), HTML(value='')))"
      ]
     },
     "metadata": {},
     "output_type": "display_data"
    },
    {
     "name": "stdout",
     "output_type": "stream",
     "text": [
      "\n"
     ]
    }
   ],
   "source": [
    "### DEMO FOR MULTIPLE VIDEOS\n",
    "\n",
    "logging.basicConfig(level=logging.DEBUG)\n",
    "### Comment if you want to DEBUG\n",
    "logging.disable(logging.DEBUG)\n",
    "\n",
    "all_videos = glob.glob('./demo_vids/*.mp4')\n",
    "\n",
    "track_dict = {}\n",
    "\n",
    "\n",
    "all_tracks = []\n",
    "for video_path in all_videos:\n",
    "    ### Temp variables\n",
    "    en = 0\n",
    "    proc = 0\n",
    "    has_pred = 0\n",
    "\n",
    "    tracker = Tracker()\n",
    "    video = mmcv.VideoReader(video_path)\n",
    "    pbar = tqdm(total=video.frame_cnt)\n",
    "    ### Start prediction\n",
    "    for frame in video:\n",
    "\n",
    "\n",
    "        ### Predict the image and update stats\n",
    "        result = inference_detector(model, frame)\n",
    "        if len(result[0]) != 0: has_pred+=1\n",
    "\n",
    "        ### Update tracker results\n",
    "        tracker.update(result)\n",
    "\n",
    "        ### Update stats\n",
    "        en += 1\n",
    "        proc += 1\n",
    "#         if proc > 1000: break  \n",
    "        pbar.update(1)\n",
    "\n",
    "\n",
    "    pbar.close()\n",
    "    how_much_to_interpoate = 6\n",
    "    tracker.calc_missing_intervals(how_much_to_interpoate)\n",
    "    track_dict[os.path.basename(video_path)] = tracker.current_tracks\n",
    "    all_tracks.extend(tracker.current_tracks)"
   ]
  },
  {
   "cell_type": "code",
   "execution_count": 16,
   "metadata": {
    "code_folding": []
   },
   "outputs": [],
   "source": [
    "final_track = {}\n",
    "for k, v in track_dict.items():\n",
    "    final_track[k] = [x.tolist() if x is not None else x for x in v]\n",
    "\n",
    "with open('./demo_vids/output/frames_res.json', 'w') as f:\n",
    "    json.dump(final_track, f)"
   ]
  },
  {
   "cell_type": "code",
   "execution_count": 20,
   "metadata": {},
   "outputs": [
    {
     "data": {
      "text/plain": [
       "(1631, 1631)"
      ]
     },
     "execution_count": 20,
     "metadata": {},
     "output_type": "execute_result"
    }
   ],
   "source": [
    "vid = mmcv.VideoReader('./demo_vids/1.mp4')\n",
    "\n",
    "len(final_track['1.mp4']), vid.frame_cnt"
   ]
  },
  {
   "cell_type": "markdown",
   "metadata": {},
   "source": [
    "## Visualize tracker results"
   ]
  },
  {
   "cell_type": "code",
   "execution_count": 19,
   "metadata": {
    "code_folding": [
     0
    ]
   },
   "outputs": [],
   "source": [
    "# test a video and show the results using BBOX\n",
    "video = mmcv.VideoReader('../../data/videos/videos/2018-11-28_Virginia_at_Maryland.mp4')\n",
    "out = cv2.VideoWriter('output_tracker_demo.mp4',cv2.VideoWriter_fourcc(*'MP4V'), 15, (1280,720))\n",
    "\n",
    "l_thickness = 2\n",
    "en = 0\n",
    "proc = 0\n",
    "not_none = 0\n",
    "for frame in video:\n",
    "    idx = str(en)\n",
    "    if not data['results'][idx]['score_bug_present'] or not data['results'][idx]['game_clock_running']:\n",
    "        en += 1\n",
    "        continue\n",
    "    \n",
    "    if tracker.current_tracks[proc] is not None:\n",
    "        not_none += 1 \n",
    "        result = np.expand_dims(tracker.current_tracks[proc][:4], axis=0)\n",
    "        frame = mmcv.imshow_bboxes(frame, result, show=False, thickness=l_thickness, colors=['green'])\n",
    "        \n",
    "        if tracker.current_tracks[proc-1] is not None:\n",
    "            curr = tracker.current_tracks[proc].astype(np.int32)\n",
    "            prev = tracker.current_tracks[proc-1].astype(np.int32)\n",
    "            \n",
    "            #upper left\n",
    "            cv2.line(frame, (curr[0], curr[1]), (prev[0], prev[1]), (0, 255, 0), thickness=l_thickness)\n",
    "            #upper right \n",
    "            cv2.line(frame, (curr[2], curr[1]), (prev[2], prev[1]), (0, 255, 0), thickness=l_thickness)\n",
    "            #lower left\n",
    "            cv2.line(frame, (curr[0], curr[3]), (prev[0], prev[3]), (0, 255, 0), thickness=l_thickness)\n",
    "            #lower right\n",
    "            cv2.line(frame, (curr[2], curr[3]), (prev[2], prev[3]), (0, 255, 0), thickness=l_thickness)\n",
    "            \n",
    "          \n",
    "    \n",
    "    out.write(frame)\n",
    "\n",
    "    en += 1\n",
    "    proc += 1\n",
    "    if proc > 500:break\n",
    "    \n",
    "    \n",
    "    \n",
    "out.release()"
   ]
  },
  {
   "cell_type": "code",
   "execution_count": null,
   "metadata": {},
   "outputs": [],
   "source": []
  },
  {
   "cell_type": "code",
   "execution_count": 49,
   "metadata": {
    "code_folding": [
     0
    ]
   },
   "outputs": [],
   "source": [
    "# test a video and show the results using CIRCLE\n",
    "video = mmcv.VideoReader('../../data/videos/videos/2018-11-28_Virginia_at_Maryland.mp4')\n",
    "out = cv2.VideoWriter('output_tracker_demo.mp4',cv2.VideoWriter_fourcc(*'MP4V'), 25, (1280,720))\n",
    "\n",
    "l_thickness = 2\n",
    "en = 0\n",
    "proc = 0\n",
    "not_none = 0\n",
    "\n",
    "dists = []\n",
    "for frame in video:\n",
    "    idx = str(en)\n",
    "    if not data['results'][idx]['score_bug_present'] or not data['results'][idx]['game_clock_running']:\n",
    "        en += 1\n",
    "        continue\n",
    "    \n",
    "    if tracker.current_tracks[proc] is not None:\n",
    "        not_none += 1 \n",
    "#         result = np.expand_dims(tracker.current_tracks[proc][:4], axis=0)\n",
    "        result = tracker.current_tracks[proc][:4]\n",
    "#         print(result)\n",
    "        center = (int((result[0] + result[2]) / 2), int((result[1] + result[3]) / 2))\n",
    "        radius = int((result[2] - result[0]) / 2)\n",
    "        cv2.circle(frame, center, radius, (0, 255, 0), thickness=1, lineType=8, shift=0)\n",
    "        \n",
    "        if tracker.current_tracks[proc-1] is not None:\n",
    "            \n",
    "            curr = tracker.current_tracks[proc].astype(np.int32)\n",
    "            prev = tracker.current_tracks[proc-1].astype(np.int32)\n",
    "            if abs(curr[0] - prev[0]) < 10:\n",
    "\n",
    "\n",
    "\n",
    "                dist_to_center = int(math.sqrt((curr[2] - curr[0])**2 + (curr[3] - curr[1])**2) / 2)\n",
    "                dist_to_circle = int((dist_to_center - radius) / math.sqrt(2))\n",
    "\n",
    "                new_curr = [curr[0] + dist_to_circle, curr[1] + dist_to_circle,\n",
    "                           curr[2] - dist_to_circle, curr[3] - dist_to_circle]\n",
    "\n",
    "                prev_radius = int((prev[2] - prev[0]) / 2)\n",
    "                dist_to_center = int(math.sqrt((prev[2] - prev[0])**2 + (prev[3] - prev[1])**2) / 2)\n",
    "                dist_to_circle = int((dist_to_center - prev_radius) / math.sqrt(2))\n",
    "\n",
    "                new_prev = [prev[0] + dist_to_circle, prev[1] + dist_to_circle,\n",
    "                           prev[2] - dist_to_circle, prev[3] - dist_to_circle]\n",
    "\n",
    "\n",
    "                #upper left\n",
    "                cv2.line(frame, (new_curr[0], new_curr[1]), (new_prev[0], new_prev[1]), (0, 255, 0), thickness=l_thickness)\n",
    "                #upper right \n",
    "                cv2.line(frame, (new_curr[2], new_curr[1]), (new_prev[2], new_prev[1]), (0, 255, 0), thickness=l_thickness)\n",
    "                #lower left\n",
    "                cv2.line(frame, (new_curr[0], new_curr[3]), (new_prev[0], new_prev[3]), (0, 255, 0), thickness=l_thickness)\n",
    "                #lower right\n",
    "                cv2.line(frame, (new_curr[2], new_curr[3]), (new_prev[2], new_prev[3]), (0, 255, 0), thickness=l_thickness)\n",
    "            \n",
    "          \n",
    "    \n",
    "    out.write(frame)\n",
    "\n",
    "    en += 1\n",
    "    proc += 1\n",
    "    if proc > 1000:break\n",
    "    \n",
    "    \n",
    "    \n",
    "out.release()"
   ]
  },
  {
   "cell_type": "code",
   "execution_count": 13,
   "metadata": {},
   "outputs": [
    {
     "name": "stdout",
     "output_type": "stream",
     "text": [
      "60.0\n"
     ]
    }
   ],
   "source": [
    "\n",
    "print(fps)"
   ]
  },
  {
   "cell_type": "code",
   "execution_count": null,
   "metadata": {},
   "outputs": [],
   "source": [
    "# test multiple videos and show the results using CIRCLE\n",
    "fps = video.fps\n",
    "out = cv2.VideoWriter('./demo_vids/output/output_tracker_demo.mp4', cv2.VideoWriter_fourcc(*'MP4V'), fps, (1280,720))\n",
    "\n",
    "l_thickness = 2\n",
    "en = 0\n",
    "proc = 0\n",
    "\n",
    "\n",
    "all_videos = glob.glob('./demo_vids/*.mp4')\n",
    "\n",
    "for video_path in all_videos:\n",
    "    \n",
    "    video = mmcv.VideoReader(video_path)\n",
    "    pbar = tqdm(total=video.frame_cnt)\n",
    "    for frame in video:\n",
    "        pbar.update(1)\n",
    "\n",
    "        if all_tracks[proc] is not None:\n",
    "\n",
    "            result = all_tracks[proc][:4]\n",
    "            center = (int((result[0] + result[2]) / 2), int((result[1] + result[3]) / 2))\n",
    "            radius = int((result[2] - result[0]) / 2)\n",
    "            cv2.circle(frame, center, radius, (0, 255, 0), thickness=1, lineType=8, shift=0)\n",
    "\n",
    "            if all_tracks[proc-1] is not None:\n",
    "\n",
    "                curr = all_tracks[proc].astype(np.int32)\n",
    "                prev = all_tracks[proc-1].astype(np.int32)\n",
    "                if abs(curr[0] - prev[0]) < 10:\n",
    "\n",
    "\n",
    "\n",
    "                    dist_to_center = int(math.sqrt((curr[2] - curr[0])**2 + (curr[3] - curr[1])**2) / 2)\n",
    "                    dist_to_circle = int((dist_to_center - radius) / math.sqrt(2))\n",
    "\n",
    "                    new_curr = [curr[0] + dist_to_circle, curr[1] + dist_to_circle,\n",
    "                               curr[2] - dist_to_circle, curr[3] - dist_to_circle]\n",
    "\n",
    "                    prev_radius = int((prev[2] - prev[0]) / 2)\n",
    "                    dist_to_center = int(math.sqrt((prev[2] - prev[0])**2 + (prev[3] - prev[1])**2) / 2)\n",
    "                    dist_to_circle = int((dist_to_center - prev_radius) / math.sqrt(2))\n",
    "\n",
    "                    new_prev = [prev[0] + dist_to_circle, prev[1] + dist_to_circle,\n",
    "                               prev[2] - dist_to_circle, prev[3] - dist_to_circle]\n",
    "\n",
    "\n",
    "                    #upper left\n",
    "                    cv2.line(frame, (new_curr[0], new_curr[1]), (new_prev[0], new_prev[1]), (0, 255, 0), thickness=l_thickness)\n",
    "                    #upper right \n",
    "                    cv2.line(frame, (new_curr[2], new_curr[1]), (new_prev[2], new_prev[1]), (0, 255, 0), thickness=l_thickness)\n",
    "                    #lower left\n",
    "                    cv2.line(frame, (new_curr[0], new_curr[3]), (new_prev[0], new_prev[3]), (0, 255, 0), thickness=l_thickness)\n",
    "                    #lower right\n",
    "                    cv2.line(frame, (new_curr[2], new_curr[3]), (new_prev[2], new_prev[3]), (0, 255, 0), thickness=l_thickness)\n",
    "\n",
    "        out.write(frame) \n",
    "        en += 1\n",
    "        proc += 1\n",
    "        \n",
    "    pbar.close()\n",
    "\n",
    "\n",
    "out.release()"
   ]
  },
  {
   "cell_type": "code",
   "execution_count": null,
   "metadata": {},
   "outputs": [],
   "source": [
    "def visualise_ball_track(all_tracks, video_path, output_path='./demo_vids/output/output_tracker_demo.mp4'):\n",
    "    \n",
    "    video = mmcv.VideoReader(video_path)\n",
    "    fps = video.fps\n",
    "    out = cv2.VideoWriter(output_path, cv2.VideoWriter_fourcc(*'MP4V'), fps, (1280,720))\n",
    "\n",
    "    l_thickness = 2\n",
    "    en = 0\n",
    "    proc = 0\n",
    "    \n",
    "\n",
    "    pbar = tqdm(total=video.frame_cnt)\n",
    "    for frame in video:\n",
    "        pbar.update(1)\n",
    "\n",
    "        if all_tracks[proc] is not None:\n",
    "\n",
    "            result = all_tracks[proc][:4]\n",
    "            center = (int((result[0] + result[2]) / 2), int((result[1] + result[3]) / 2))\n",
    "            radius = int((result[2] - result[0]) / 2)\n",
    "            cv2.circle(frame, center, radius, (0, 255, 0), thickness=1, lineType=8, shift=0)\n",
    "\n",
    "            if all_tracks[proc-1] is not None:\n",
    "\n",
    "                curr = all_tracks[proc].astype(np.int32)\n",
    "                prev = all_tracks[proc-1].astype(np.int32)\n",
    "                if abs(curr[0] - prev[0]) < 10:\n",
    "\n",
    "\n",
    "\n",
    "                    dist_to_center = int(math.sqrt((curr[2] - curr[0])**2 + (curr[3] - curr[1])**2) / 2)\n",
    "                    dist_to_circle = int((dist_to_center - radius) / math.sqrt(2))\n",
    "\n",
    "                    new_curr = [curr[0] + dist_to_circle, curr[1] + dist_to_circle,\n",
    "                               curr[2] - dist_to_circle, curr[3] - dist_to_circle]\n",
    "\n",
    "                    prev_radius = int((prev[2] - prev[0]) / 2)\n",
    "                    dist_to_center = int(math.sqrt((prev[2] - prev[0])**2 + (prev[3] - prev[1])**2) / 2)\n",
    "                    dist_to_circle = int((dist_to_center - prev_radius) / math.sqrt(2))\n",
    "\n",
    "                    new_prev = [prev[0] + dist_to_circle, prev[1] + dist_to_circle,\n",
    "                               prev[2] - dist_to_circle, prev[3] - dist_to_circle]\n",
    "\n",
    "\n",
    "                    #upper left\n",
    "                    cv2.line(frame, (new_curr[0], new_curr[1]), (new_prev[0], new_prev[1]), (0, 255, 0), thickness=l_thickness)\n",
    "                    #upper right \n",
    "                    cv2.line(frame, (new_curr[2], new_curr[1]), (new_prev[2], new_prev[1]), (0, 255, 0), thickness=l_thickness)\n",
    "                    #lower left\n",
    "                    cv2.line(frame, (new_curr[0], new_curr[3]), (new_prev[0], new_prev[3]), (0, 255, 0), thickness=l_thickness)\n",
    "                    #lower right\n",
    "                    cv2.line(frame, (new_curr[2], new_curr[3]), (new_prev[2], new_prev[3]), (0, 255, 0), thickness=l_thickness)\n",
    "\n",
    "        out.write(frame) \n",
    "        en += 1\n",
    "        proc += 1"
   ]
  },
  {
   "cell_type": "code",
   "execution_count": 6,
   "metadata": {},
   "outputs": [
    {
     "data": {
      "text/html": [
       "<video src=\"./demo_vids/output/output_tracker_demo.mp4\" controls  >\n",
       "      Your browser does not support the <code>video</code> element.\n",
       "    </video>"
      ],
      "text/plain": [
       "<IPython.core.display.Video object>"
      ]
     },
     "execution_count": 6,
     "metadata": {},
     "output_type": "execute_result"
    }
   ],
   "source": [
    "from IPython.display import Video\n",
    "Video('./demo_vids/output/output_tracker_demo.mp4')"
   ]
  },
  {
   "cell_type": "code",
   "execution_count": null,
   "metadata": {},
   "outputs": [],
   "source": []
  }
 ],
 "metadata": {
  "kernelspec": {
   "display_name": "Python 3",
   "language": "python",
   "name": "python3"
  },
  "language_info": {
   "codemirror_mode": {
    "name": "ipython",
    "version": 3
   },
   "file_extension": ".py",
   "mimetype": "text/x-python",
   "name": "python",
   "nbconvert_exporter": "python",
   "pygments_lexer": "ipython3",
   "version": "3.7.8"
  }
 },
 "nbformat": 4,
 "nbformat_minor": 4
}
